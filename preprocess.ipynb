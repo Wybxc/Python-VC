{
 "cells": [
  {
   "cell_type": "code",
   "execution_count": 1,
   "metadata": {},
   "outputs": [],
   "source": [
    "from pathlib import Path\n",
    "from typing import Tuple, Union\n",
    "from tqdm.notebook import tqdm\n",
    "import numpy as np\n",
    "from models.embed.inference import embed_utterance\n",
    "from models.embed.inference import is_loaded as is_embed_loaded\n",
    "from models.embed.inference import load_model as load_embed_model\n",
    "from models.embed.audio import preprocess_wav\n",
    "from utils.f0_utils import compute_f0, compute_mean_std, f02lf0"
   ]
  },
  {
   "cell_type": "code",
   "execution_count": 2,
   "metadata": {},
   "outputs": [
    {
     "name": "stdout",
     "output_type": "stream",
     "text": [
      "Found 24216 files.\n"
     ]
    }
   ],
   "source": [
    "data_root = r\"E:\\PKU\\Lecture_AI\\aidatatang_200zh\\aidatatang_200zh\\corpus\\dev\"\n",
    "files = sorted(Path(data_root).rglob(\"*.wav\"))\n",
    "print(f\"Found {len(files)} files.\")"
   ]
  },
  {
   "cell_type": "code",
   "execution_count": 3,
   "metadata": {},
   "outputs": [
    {
     "name": "stdout",
     "output_type": "stream",
     "text": [
      "Loaded encoder \"pretrained.pt\" trained to step 1594501\n"
     ]
    },
    {
     "data": {
      "text/plain": [
       "SpeakerEncoder(\n",
       "  (lstm): LSTM(40, 256, num_layers=3, batch_first=True)\n",
       "  (linear): Linear(in_features=256, out_features=256, bias=True)\n",
       "  (relu): ReLU()\n",
       "  (loss_fn): CrossEntropyLoss()\n",
       ")"
      ]
     },
     "execution_count": 3,
     "metadata": {},
     "output_type": "execute_result"
    }
   ],
   "source": [
    "load_embed_model(Path(r\"E:\\PKU\\Lecture_AI\\TTL-VC\\pre_trained\\embed\\pretrained.pt\"))"
   ]
  },
  {
   "cell_type": "code",
   "execution_count": 4,
   "metadata": {},
   "outputs": [],
   "source": [
    "def speaker_embed(wav: Union[str, Path, np.ndarray]) -> Tuple[np.ndarray, np.ndarray]:\n",
    "    \"\"\"说话人风格嵌入。\"\"\"\n",
    "    if not is_embed_loaded():\n",
    "        raise RuntimeError(\"请先初始化 Embed 模型。\")\n",
    "    wav_preprocessed = preprocess_wav(wav)\n",
    "    return wav_preprocessed, embed_utterance(wav_preprocessed)"
   ]
  },
  {
   "cell_type": "code",
   "execution_count": 5,
   "metadata": {},
   "outputs": [
    {
     "data": {
      "application/vnd.jupyter.widget-view+json": {
       "model_id": "3ab3854a26f04464a209a32de2699bd8",
       "version_major": 2,
       "version_minor": 0
      },
      "text/plain": [
       "  0%|          | 0/24216 [00:00<?, ?it/s]"
      ]
     },
     "metadata": {},
     "output_type": "display_data"
    },
    {
     "ename": "FileNotFoundError",
     "evalue": "[Errno 2] No such file or directory: 'preprocessed/embeds.npy'",
     "output_type": "error",
     "traceback": [
      "\u001b[1;31m---------------------------------------------------------------------------\u001b[0m",
      "\u001b[1;31mFileNotFoundError\u001b[0m                         Traceback (most recent call last)",
      "\u001b[1;32me:\\PKU\\Lecture_AI\\TTL-VC\\preprocess.ipynb Cell 5'\u001b[0m in \u001b[0;36m<cell line: 10>\u001b[1;34m()\u001b[0m\n\u001b[0;32m      <a href='vscode-notebook-cell:/e%3A/PKU/Lecture_AI/TTL-VC/preprocess.ipynb#ch0000004?line=6'>7</a>\u001b[0m     embeds[i] \u001b[39m=\u001b[39m embed\n\u001b[0;32m      <a href='vscode-notebook-cell:/e%3A/PKU/Lecture_AI/TTL-VC/preprocess.ipynb#ch0000004?line=7'>8</a>\u001b[0m     lf0_mean_stds[i] \u001b[39m=\u001b[39m ref_lf0_mean, ref_lf0_std\n\u001b[1;32m---> <a href='vscode-notebook-cell:/e%3A/PKU/Lecture_AI/TTL-VC/preprocess.ipynb#ch0000004?line=9'>10</a>\u001b[0m np\u001b[39m.\u001b[39;49msave(\u001b[39m\"\u001b[39;49m\u001b[39mpreprocessed/embeds.npy\u001b[39;49m\u001b[39m\"\u001b[39;49m, embeds, allow_pickle\u001b[39m=\u001b[39;49m\u001b[39mFalse\u001b[39;49;00m)\n\u001b[0;32m     <a href='vscode-notebook-cell:/e%3A/PKU/Lecture_AI/TTL-VC/preprocess.ipynb#ch0000004?line=10'>11</a>\u001b[0m np\u001b[39m.\u001b[39msave(\u001b[39m\"\u001b[39m\u001b[39mpreprocessed/lf0_mean_stds.npy\u001b[39m\u001b[39m\"\u001b[39m, lf0_mean_stds, allow_pickle\u001b[39m=\u001b[39m\u001b[39mFalse\u001b[39;00m)\n",
      "File \u001b[1;32m<__array_function__ internals>:180\u001b[0m, in \u001b[0;36msave\u001b[1;34m(*args, **kwargs)\u001b[0m\n",
      "File \u001b[1;32md:\\Anaconda3\\envs\\ttl-vc\\lib\\site-packages\\numpy\\lib\\npyio.py:515\u001b[0m, in \u001b[0;36msave\u001b[1;34m(file, arr, allow_pickle, fix_imports)\u001b[0m\n\u001b[0;32m    <a href='file:///d%3A/Anaconda3/envs/ttl-vc/lib/site-packages/numpy/lib/npyio.py?line=512'>513</a>\u001b[0m     \u001b[39mif\u001b[39;00m \u001b[39mnot\u001b[39;00m file\u001b[39m.\u001b[39mendswith(\u001b[39m'\u001b[39m\u001b[39m.npy\u001b[39m\u001b[39m'\u001b[39m):\n\u001b[0;32m    <a href='file:///d%3A/Anaconda3/envs/ttl-vc/lib/site-packages/numpy/lib/npyio.py?line=513'>514</a>\u001b[0m         file \u001b[39m=\u001b[39m file \u001b[39m+\u001b[39m \u001b[39m'\u001b[39m\u001b[39m.npy\u001b[39m\u001b[39m'\u001b[39m\n\u001b[1;32m--> <a href='file:///d%3A/Anaconda3/envs/ttl-vc/lib/site-packages/numpy/lib/npyio.py?line=514'>515</a>\u001b[0m     file_ctx \u001b[39m=\u001b[39m \u001b[39mopen\u001b[39;49m(file, \u001b[39m\"\u001b[39;49m\u001b[39mwb\u001b[39;49m\u001b[39m\"\u001b[39;49m)\n\u001b[0;32m    <a href='file:///d%3A/Anaconda3/envs/ttl-vc/lib/site-packages/numpy/lib/npyio.py?line=516'>517</a>\u001b[0m \u001b[39mwith\u001b[39;00m file_ctx \u001b[39mas\u001b[39;00m fid:\n\u001b[0;32m    <a href='file:///d%3A/Anaconda3/envs/ttl-vc/lib/site-packages/numpy/lib/npyio.py?line=517'>518</a>\u001b[0m     arr \u001b[39m=\u001b[39m np\u001b[39m.\u001b[39masanyarray(arr)\n",
      "\u001b[1;31mFileNotFoundError\u001b[0m: [Errno 2] No such file or directory: 'preprocessed/embeds.npy'"
     ]
    }
   ],
   "source": [
    "embeds = np.empty((len(files), 256), dtype=np.float32)\n",
    "lf0_mean_stds = np.empty((len(files), 2), dtype=np.float32)\n",
    "\n",
    "for i, file in enumerate(tqdm(files)):\n",
    "    wav, embed = speaker_embed(file)\n",
    "    ref_lf0_mean, ref_lf0_std = compute_mean_std(f02lf0(compute_f0(wav)))\n",
    "    embeds[i] = embed\n",
    "    lf0_mean_stds[i] = ref_lf0_mean, ref_lf0_std\n",
    "\n",
    "    "
   ]
  },
  {
   "cell_type": "code",
   "execution_count": 6,
   "metadata": {},
   "outputs": [],
   "source": [
    "np.save(\"preprocessed/embeds.npy\", embeds, allow_pickle=False)\n",
    "np.save(\"preprocessed/lf0_mean_stds.npy\", lf0_mean_stds, allow_pickle=False)"
   ]
  },
  {
   "cell_type": "code",
   "execution_count": null,
   "metadata": {},
   "outputs": [],
   "source": []
  }
 ],
 "metadata": {
  "interpreter": {
   "hash": "1d705790543e5372df868446b67939f6991a8f60a29a30ef49b4eedc18a77116"
  },
  "kernelspec": {
   "display_name": "Python 3.9.12 ('ttl-vc')",
   "language": "python",
   "name": "python3"
  },
  "language_info": {
   "codemirror_mode": {
    "name": "ipython",
    "version": 3
   },
   "file_extension": ".py",
   "mimetype": "text/x-python",
   "name": "python",
   "nbconvert_exporter": "python",
   "pygments_lexer": "ipython3",
   "version": "3.9.12"
  },
  "orig_nbformat": 4
 },
 "nbformat": 4,
 "nbformat_minor": 2
}
